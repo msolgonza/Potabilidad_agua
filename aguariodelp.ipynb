{
 "cells": [
  {
   "cell_type": "code",
   "execution_count": 18,
   "id": "e2528f9e-6373-479c-9066-2f69d3a9d6e7",
   "metadata": {},
   "outputs": [],
   "source": [
    "import numpy as np\n",
    "import pandas as pd\n",
    "import seaborn as sns\n",
    "import matplotlib.pyplot as plt"
   ]
  },
  {
   "cell_type": "code",
   "execution_count": 19,
   "id": "e05daae7-9651-472c-b3a0-32ce99e2fa4d",
   "metadata": {},
   "outputs": [],
   "source": [
    "agua_2017 = pd.read_csv(\"agc_y_riodelaplata_2017.csv\", sep=\";\", encoding=\"latin-1\")\n",
    "agua_2018 = pd.read_csv(\"agc_z_riodelaplata_2018.csv\", sep=\";\", encoding=\"latin-1\")\n",
    "agua_2019 = pd.read_csv(\"agc_z_riodelaplata_2019.csv\", sep=\";\", encoding=\"latin-1\")\n",
    "agua_2020 = pd.read_csv(\"agc_z_riodelaplata_2020.csv\", sep=\";\", encoding=\"latin-1\")\n",
    "agua_2021 = pd.read_csv(\"agc_z_riodelaplata_2021.csv\", sep=\";\", encoding=\"latin-1\")\n",
    "agua_2022 = pd.read_csv(\"agc_y_riodelaplata_2022.csv\", sep=\";\", encoding=\"latin-1\")\n",
    "agua_2023 = pd.read_csv(\"agc_y_riodelaplata_2023.csv\", sep=\";\", encoding=\"latin-1\")\n",
    "\n",
    "agua_dataframes = [agua_2017, agua_2018, agua_2019, agua_2020, agua_2021, agua_2022]\n",
    "agua = pd.concat(agua_dataframes, axis=0, join='outer', ignore_index=True)"
   ]
  },
  {
   "cell_type": "code",
   "execution_count": 20,
   "id": "24db91d8-824d-40ff-9012-8134e144d147",
   "metadata": {},
   "outputs": [
    {
     "data": {
      "text/plain": [
       "Orden                                      0\n",
       "Sitios                                     0\n",
       "Gobierno_local                           744\n",
       "codigo                                     0\n",
       "Fecha                                      0\n",
       "Año                                        0\n",
       "Campaña                                    0\n",
       "Tem_agua                                   9\n",
       "OD                                       168\n",
       "pH                                         3\n",
       "colif_totales_ufc_100ml                   83\n",
       "colif_fecales_ufc_100ml                  744\n",
       "escher_coli_ufc_100ml                     83\n",
       "Nitrato_mg_l                               4\n",
       "NH4_mg_l                                   0\n",
       "DQO_mg_l                                  82\n",
       "DBO_mg_l                                   2\n",
       "Fosf_ortofos_mg_l                        410\n",
       "solidos_totales_mg_l                     744\n",
       "Turbiedad_NTU                              0\n",
       "Hidr_Deriv_Petr_ug_l                     414\n",
       "Cr_total_mg_l                              5\n",
       "Cd_total_mg_l                              0\n",
       "P_total_l_mg_l                             0\n",
       "Municipio                                738\n",
       "Olores                                   158\n",
       "Color                                    162\n",
       "Espumas                                  158\n",
       "Mat_susp                                 158\n",
       "enteroc_ufc_100ml                        241\n",
       "P_de_ortof_mg_l                          574\n",
       "Hidr_Deriv_del_Petroleo_ug_l             578\n",
       "Microcistina_ug_l                        240\n",
       "Clorofila_a_ug_l                         159\n",
       "ICA                                      171\n",
       "Calidad_de_agua                          173\n",
       "Tem_aire                                 333\n",
       "escherichia_coli_ufc_100ml               820\n",
       "Hidrocarburos_Deriv_del_Petróleo_ug_l    820\n",
       "dtype: int64"
      ]
     },
     "execution_count": 20,
     "metadata": {},
     "output_type": "execute_result"
    }
   ],
   "source": [
    "agua.isna().sum()"
   ]
  },
  {
   "cell_type": "code",
   "execution_count": null,
   "id": "35d88890-6c94-40f7-ac32-aa9056577009",
   "metadata": {},
   "outputs": [],
   "source": []
  }
 ],
 "metadata": {
  "kernelspec": {
   "display_name": "Python 3 (ipykernel)",
   "language": "python",
   "name": "python3"
  },
  "language_info": {
   "codemirror_mode": {
    "name": "ipython",
    "version": 3
   },
   "file_extension": ".py",
   "mimetype": "text/x-python",
   "name": "python",
   "nbconvert_exporter": "python",
   "pygments_lexer": "ipython3",
   "version": "3.11.2"
  }
 },
 "nbformat": 4,
 "nbformat_minor": 5
}
